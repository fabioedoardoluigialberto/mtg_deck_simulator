{
 "cells": [
  {
   "cell_type": "code",
   "execution_count": 1,
   "metadata": {
    "collapsed": true
   },
   "outputs": [],
   "source": [
    "import numpy as np\n",
    "np.random.seed(19)"
   ]
  },
  {
   "cell_type": "code",
   "execution_count": 2,
   "metadata": {
    "collapsed": true
   },
   "outputs": [],
   "source": [
    "%matplotlib inline"
   ]
  },
  {
   "cell_type": "code",
   "execution_count": 3,
   "metadata": {
    "collapsed": true
   },
   "outputs": [],
   "source": [
    "import pylab as pl\n",
    "pl.rcParams['figure.dpi'] = 120"
   ]
  },
  {
   "cell_type": "code",
   "execution_count": 10,
   "metadata": {
    "collapsed": true
   },
   "outputs": [],
   "source": [
    "from mtgsdk import Card as QueryDB\n",
    "import pickle\n",
    "import csv"
   ]
  },
  {
   "cell_type": "code",
   "execution_count": 26,
   "metadata": {
    "collapsed": true
   },
   "outputs": [],
   "source": [
    "import random\n",
    "\n",
    "class Card():\n",
    "    \n",
    "    def __init__(self, name):\n",
    "        \n",
    "        try:\n",
    "            cc = QueryDB.where(name=name).array()[0]\n",
    "            self.name = cc['name']\n",
    "            self.types = cc['types']\n",
    "            try:\n",
    "                self.power = cc['power']\n",
    "            except KeyError:\n",
    "                self.power = None\n",
    "            try:\n",
    "                self.tough = cc['toughness']\n",
    "            except KeyError:\n",
    "                self.tough = None\n",
    "            try:\n",
    "                self.cost = cc['cmc']#.replace('{','').replace('}','')\n",
    "            except KeyError:\n",
    "                self.cost = None\n",
    "            self._card = cc\n",
    "\n",
    "        except IndexError:\n",
    "            print(\"Couldn't find %s, skipping.\"%name)\n",
    "            self.name = name\n",
    "            self.types = []\n",
    "            self.power = None\n",
    "            self.tough = None\n",
    "            self.cost = None\n",
    "            self._card = None\n",
    "        \n",
    "    def is_type(self, type_string):\n",
    "        return type_string.lower() in [t.lower() for t in self.types]\n",
    "    \n",
    "    def is_land(self):\n",
    "        return self.is_type('land')\n",
    "    \n",
    "    def is_creature(self):\n",
    "        return self.is_type('creature')\n",
    "    \n",
    "    def is_instant(self):\n",
    "        return self.is_type('instant')\n",
    "        \n",
    "    def get_combined_cost(self):\n",
    "        return np.sum(self.cost)\n",
    "    \n",
    "    def __repr__(self):\n",
    "        return self.name"
   ]
  },
  {
   "cell_type": "code",
   "execution_count": 6,
   "metadata": {
    "collapsed": true
   },
   "outputs": [],
   "source": [
    "class Deck():\n",
    "    \n",
    "    def __init__(self, name):\n",
    "        self.name = name\n",
    "        self.library = []\n",
    "        self.hand = []\n",
    "        self.lands = 0\n",
    "        \n",
    "    def import_names(self, cards):\n",
    "        for c in cards:\n",
    "            self.library.append(Card(c))\n",
    "        random.shuffle(self.library)\n",
    "\n",
    "    def import_csv(self, filename='decks/white_green.csv'):\n",
    "        cards = []\n",
    "        with open(filename, 'r') as csvfile:\n",
    "            reader = csv.reader(csvfile, delimiter=',')\n",
    "            for row in reader:\n",
    "                if row[0] == 'Name':\n",
    "                    continue\n",
    "                howmany = int(row[-1])\n",
    "                while howmany>0:\n",
    "                    cards.append(row[0])\n",
    "                    howmany -= 1\n",
    "        self.import_names(cards)\n",
    "        \n",
    "    def draw(self, n=1):\n",
    "        for i in range(n):\n",
    "            picked = self.library[0]\n",
    "            self.library = self.library[1:]\n",
    "            self.hand = np.append(self.hand, picked)\n",
    "#             print(picked.name)\n",
    "        return picked\n",
    "    \n",
    "    def play(self):\n",
    "        picked = self.draw()\n",
    "        land = self.land()\n",
    "        played = self.cast()\n",
    "        discarded = self.discard()\n",
    "#         print \"Land\", land, \"Played\", played, \"Discarded\", discarded\n",
    "        return land, picked, played, discarded\n",
    "        \n",
    "    def land(self):\n",
    "        yes_no = []\n",
    "        for h in self.hand:\n",
    "            yes_no.append(h.is_land())\n",
    "        try:\n",
    "            which = np.where(yes_no)[0][0]\n",
    "            self.lands += 1\n",
    "            self.hand = np.delete(self.hand, which)\n",
    "            toret = 1\n",
    "        except IndexError:\n",
    "#             print \"No land in hand. :(\"\n",
    "            toret = 0\n",
    "        return toret\n",
    "    \n",
    "    def cast(self):\n",
    "        total_mana = self.lands\n",
    "        played = []\n",
    "        while total_mana > 0:\n",
    "            try:\n",
    "                costs = np.r_[[c.cost for c in self.hand]]\n",
    "                which = np.random.choice([w for w in np.where(costs<=total_mana)[0] if self.hand[w]>0])\n",
    "                total_mana -= self.hand[which]\n",
    "                played.append(self.hand[which])\n",
    "                self.hand = np.delete(self.hand, which) \n",
    "            except:\n",
    "                break\n",
    "        return played\n",
    "    \n",
    "    def discard(self):\n",
    "        if len(self.hand) > 7:\n",
    "            which = np.random.choice(np.where([not c.is_land() for c in self.hand])[0])\n",
    "            toret = self.hand[which]\n",
    "            self.hand = np.delete(self.hand, which)\n",
    "        else:\n",
    "            toret = None\n",
    "        return toret\n",
    "    \n",
    "    def _reset(self, library):\n",
    "        self.library = library\n",
    "        random.shuffle(library)\n",
    "        self.hand = []\n",
    "        self.lands = 0\n",
    "        \n",
    "    def save(self, filename=None):\n",
    "        if filename is None:\n",
    "            filename = self.name\n",
    "        with open(filename, 'wb') as f:\n",
    "            pickle.dump(self.library, f)\n",
    "            \n",
    "    def load(self, filename):\n",
    "        with open(filename, 'rb') as f:\n",
    "            self._reset(pickle.load(f))"
   ]
  },
  {
   "cell_type": "code",
   "execution_count": 27,
   "metadata": {},
   "outputs": [],
   "source": [
    "deck = Deck('white_green')"
   ]
  },
  {
   "cell_type": "code",
   "execution_count": 14,
   "metadata": {},
   "outputs": [
    {
     "name": "stdout",
     "output_type": "stream",
     "text": [
      "CPU times: user 1.24 s, sys: 56 ms, total: 1.3 s\n",
      "Wall time: 20.7 s\n"
     ]
    }
   ],
   "source": [
    "%%time\n",
    "deck.import_csv('decks/white_green.csv')\n",
    "deck.save('white_green.dck')"
   ]
  },
  {
   "cell_type": "code",
   "execution_count": 28,
   "metadata": {},
   "outputs": [
    {
     "name": "stdout",
     "output_type": "stream",
     "text": [
      "Couldn't find Deja Vu, skipping.\n",
      "CPU times: user 1.09 s, sys: 36.9 ms, total: 1.13 s\n",
      "Wall time: 11.8 s\n"
     ]
    }
   ],
   "source": [
    "%%time\n",
    "deck.import_csv('decks/blue_black.csv')\n",
    "deck.save('blue_black.dck')"
   ]
  },
  {
   "cell_type": "code",
   "execution_count": 16,
   "metadata": {},
   "outputs": [
    {
     "name": "stdout",
     "output_type": "stream",
     "text": [
      "CPU times: user 1.11 s, sys: 67.3 ms, total: 1.18 s\n",
      "Wall time: 12 s\n"
     ]
    }
   ],
   "source": [
    "%%time\n",
    "deck.import_csv('decks/green_nissa_duel_deck.csv')\n",
    "deck.save('green.dck')"
   ]
  },
  {
   "cell_type": "code",
   "execution_count": 11,
   "metadata": {},
   "outputs": [],
   "source": [
    "deck.load('white_green')"
   ]
  },
  {
   "cell_type": "code",
   "execution_count": 38,
   "metadata": {},
   "outputs": [],
   "source": [
    "deck.load('blue_black.dck')\n",
    "which = np.where(['Deja' in c.name for c in deck.library])[0][0]\n",
    "deck.library[which].cost = 3\n",
    "deck.save('blue_black.dck')"
   ]
  },
  {
   "cell_type": "code",
   "execution_count": 42,
   "metadata": {},
   "outputs": [
    {
     "name": "stdout",
     "output_type": "stream",
     "text": [
      "['Talas Explorer', 'Frozen Shade', 'Swamp', 'Scavenging Scarab', 'Swamp', 'Swamp', 'Essence Drain']\n",
      "----\n",
      "Lands 1\n",
      "Picked Swamp 0\n",
      "Played []\n",
      "Discarded None None\n",
      "['Talas Explorer', 'Frozen Shade', 'Scavenging Scarab', 'Swamp', 'Swamp', 'Essence Drain', 'Swamp']\n",
      "----\n",
      "Lands 2\n",
      "Picked Unholy Strength 1\n",
      "Played []\n",
      "Discarded None None\n",
      "['Talas Explorer', 'Frozen Shade', 'Scavenging Scarab', 'Swamp', 'Essence Drain', 'Swamp', 'Unholy Strength']\n",
      "----\n",
      "Lands 3\n",
      "Picked Dark Banishing 3\n",
      "Played []\n",
      "Discarded None None\n",
      "['Talas Explorer', 'Frozen Shade', 'Scavenging Scarab', 'Essence Drain', 'Swamp', 'Unholy Strength', 'Dark Banishing']\n",
      "----\n",
      "Lands 4\n",
      "Picked Dross Crocodile 4\n",
      "Played []\n",
      "Discarded None None\n",
      "['Talas Explorer', 'Frozen Shade', 'Scavenging Scarab', 'Essence Drain', 'Unholy Strength', 'Dark Banishing', 'Dross Crocodile']\n",
      "----\n",
      "Lands 5\n",
      "Picked Island 0\n",
      "Played []\n",
      "Discarded None None\n",
      "['Talas Explorer', 'Frozen Shade', 'Scavenging Scarab', 'Essence Drain', 'Unholy Strength', 'Dark Banishing', 'Dross Crocodile']\n",
      "----\n",
      "Lands 5\n",
      "Picked Consume Spirit 2\n",
      "Played []\n",
      "Discarded Unholy Strength 1\n",
      "['Talas Explorer', 'Frozen Shade', 'Scavenging Scarab', 'Essence Drain', 'Dark Banishing', 'Dross Crocodile', 'Consume Spirit']\n",
      "----\n",
      "Lands 5\n",
      "Picked Psychic Venom 2\n",
      "Played []\n",
      "Discarded Scavenging Scarab 4\n",
      "['Talas Explorer', 'Frozen Shade', 'Essence Drain', 'Dark Banishing', 'Dross Crocodile', 'Consume Spirit', 'Psychic Venom']\n",
      "----\n",
      "Lands 5\n",
      "Picked Wall of Corpses 2\n",
      "Played []\n",
      "Discarded Wall of Corpses 2\n",
      "['Talas Explorer', 'Frozen Shade', 'Essence Drain', 'Dark Banishing', 'Dross Crocodile', 'Consume Spirit', 'Psychic Venom']\n",
      "----\n",
      "Lands 6\n",
      "Picked Island 0\n",
      "Played []\n",
      "Discarded None None\n",
      "['Talas Explorer', 'Frozen Shade', 'Essence Drain', 'Dark Banishing', 'Dross Crocodile', 'Consume Spirit', 'Psychic Venom']\n",
      "----\n",
      "Lands 6\n",
      "Picked Slith Strider 3\n",
      "Played []\n",
      "Discarded Essence Drain 5\n",
      "['Talas Explorer', 'Frozen Shade', 'Dark Banishing', 'Dross Crocodile', 'Consume Spirit', 'Psychic Venom', 'Slith Strider']\n"
     ]
    }
   ],
   "source": [
    "deck.load('blue_black.dck')\n",
    "deck.draw(7)\n",
    "print(['%s'%c for c in deck.hand])\n",
    "lands = [0]\n",
    "hands = [len(deck.hand)]\n",
    "for i in range(10):    \n",
    "    print(\"----\")\n",
    "    l, draw, played, discarded = deck.play()\n",
    "    print(\"Lands\", deck.lands)\n",
    "    print(\"Picked\", draw, draw.cost)\n",
    "    print(\"Played\", [(p, p.cost if p is not None else None) for p in played])\n",
    "    print(\"Discarded\", discarded, discarded.cost if discarded is not None else None)\n",
    "    print(['%s'%c for c in deck.hand])\n",
    "    lands.append(deck.lands)\n",
    "    hands.append(len(deck.hand))"
   ]
  },
  {
   "cell_type": "markdown",
   "metadata": {},
   "source": [
    "Now we simulate a number of such runs. First we encapsulate the above into the `simulate` function."
   ]
  },
  {
   "cell_type": "code",
   "execution_count": 70,
   "metadata": {},
   "outputs": [],
   "source": [
    "import pickle\n",
    "with open('dump', 'wb') as f:\n",
    "    pickle.dump(deck_library, f)"
   ]
  },
  {
   "cell_type": "code",
   "execution_count": 62,
   "metadata": {
    "collapsed": true
   },
   "outputs": [],
   "source": [
    "def simulate(deck, library, n=100, n_rounds=20):\n",
    "    hh = []\n",
    "    ll = []\n",
    "    for i in range(n):\n",
    "\n",
    "        deck._reset(library)\n",
    "\n",
    "        lands = [0]\n",
    "        hands = [len(deck.hand)]\n",
    "        for i in range(n_rounds):    \n",
    "            l, draw, played, discarded = deck.play()\n",
    "            lands.append(deck.lands)\n",
    "            hands.append(len(deck.hand))\n",
    "\n",
    "        hh.append(hands)\n",
    "        ll.append(lands)\n",
    "\n",
    "    hh = np.r_[hh]\n",
    "    ll = np.r_[ll]\n",
    "    \n",
    "    return hh, ll"
   ]
  },
  {
   "cell_type": "markdown",
   "metadata": {},
   "source": [
    "Then we define 3 decks, red, black and green, and we simulate them."
   ]
  },
  {
   "cell_type": "code",
   "execution_count": 63,
   "metadata": {},
   "outputs": [
    {
     "ename": "IndexError",
     "evalue": "list index out of range",
     "output_type": "error",
     "traceback": [
      "\u001b[0;31m---------------------------------------------------------------------------\u001b[0m",
      "\u001b[0;31mIndexError\u001b[0m                                Traceback (most recent call last)",
      "\u001b[0;32m<ipython-input-63-bcc11336f6c5>\u001b[0m in \u001b[0;36m<module>\u001b[0;34m()\u001b[0m\n\u001b[1;32m      1\u001b[0m \u001b[0;31m# hh_r, ll_r = simulate(deck_r, n_rounds=30)\u001b[0m\u001b[0;34m\u001b[0m\u001b[0;34m\u001b[0m\u001b[0m\n\u001b[1;32m      2\u001b[0m \u001b[0;31m# hh_k, ll_k = simulate(deck_k, n_rounds=30)\u001b[0m\u001b[0;34m\u001b[0m\u001b[0;34m\u001b[0m\u001b[0m\n\u001b[0;32m----> 3\u001b[0;31m \u001b[0mhh_g\u001b[0m\u001b[0;34m,\u001b[0m \u001b[0mll_g\u001b[0m \u001b[0;34m=\u001b[0m \u001b[0msimulate\u001b[0m\u001b[0;34m(\u001b[0m\u001b[0mdeck\u001b[0m\u001b[0;34m,\u001b[0m \u001b[0mdeck_library\u001b[0m\u001b[0;34m,\u001b[0m \u001b[0mn_rounds\u001b[0m\u001b[0;34m=\u001b[0m\u001b[0;36m30\u001b[0m\u001b[0;34m)\u001b[0m\u001b[0;34m\u001b[0m\u001b[0m\n\u001b[0m",
      "\u001b[0;32m<ipython-input-62-a585a98e315f>\u001b[0m in \u001b[0;36msimulate\u001b[0;34m(deck, library, n, n_rounds)\u001b[0m\n\u001b[1;32m      9\u001b[0m         \u001b[0mhands\u001b[0m \u001b[0;34m=\u001b[0m \u001b[0;34m[\u001b[0m\u001b[0mlen\u001b[0m\u001b[0;34m(\u001b[0m\u001b[0mdeck\u001b[0m\u001b[0;34m.\u001b[0m\u001b[0mhand\u001b[0m\u001b[0;34m)\u001b[0m\u001b[0;34m]\u001b[0m\u001b[0;34m\u001b[0m\u001b[0m\n\u001b[1;32m     10\u001b[0m         \u001b[0;32mfor\u001b[0m \u001b[0mi\u001b[0m \u001b[0;32min\u001b[0m \u001b[0mrange\u001b[0m\u001b[0;34m(\u001b[0m\u001b[0mn_rounds\u001b[0m\u001b[0;34m)\u001b[0m\u001b[0;34m:\u001b[0m\u001b[0;34m\u001b[0m\u001b[0m\n\u001b[0;32m---> 11\u001b[0;31m             \u001b[0ml\u001b[0m\u001b[0;34m,\u001b[0m \u001b[0mdraw\u001b[0m\u001b[0;34m,\u001b[0m \u001b[0mplayed\u001b[0m\u001b[0;34m,\u001b[0m \u001b[0mdiscarded\u001b[0m \u001b[0;34m=\u001b[0m \u001b[0mdeck\u001b[0m\u001b[0;34m.\u001b[0m\u001b[0mplay\u001b[0m\u001b[0;34m(\u001b[0m\u001b[0;34m)\u001b[0m\u001b[0;34m\u001b[0m\u001b[0m\n\u001b[0m\u001b[1;32m     12\u001b[0m             \u001b[0mlands\u001b[0m\u001b[0;34m.\u001b[0m\u001b[0mappend\u001b[0m\u001b[0;34m(\u001b[0m\u001b[0mdeck\u001b[0m\u001b[0;34m.\u001b[0m\u001b[0mlands\u001b[0m\u001b[0;34m)\u001b[0m\u001b[0;34m\u001b[0m\u001b[0m\n\u001b[1;32m     13\u001b[0m             \u001b[0mhands\u001b[0m\u001b[0;34m.\u001b[0m\u001b[0mappend\u001b[0m\u001b[0;34m(\u001b[0m\u001b[0mlen\u001b[0m\u001b[0;34m(\u001b[0m\u001b[0mdeck\u001b[0m\u001b[0;34m.\u001b[0m\u001b[0mhand\u001b[0m\u001b[0;34m)\u001b[0m\u001b[0;34m)\u001b[0m\u001b[0;34m\u001b[0m\u001b[0m\n",
      "\u001b[0;32m<ipython-input-41-6c559e6cc9c3>\u001b[0m in \u001b[0;36mplay\u001b[0;34m(self)\u001b[0m\n\u001b[1;32m     19\u001b[0m \u001b[0;34m\u001b[0m\u001b[0m\n\u001b[1;32m     20\u001b[0m     \u001b[0;32mdef\u001b[0m \u001b[0mplay\u001b[0m\u001b[0;34m(\u001b[0m\u001b[0mself\u001b[0m\u001b[0;34m)\u001b[0m\u001b[0;34m:\u001b[0m\u001b[0;34m\u001b[0m\u001b[0m\n\u001b[0;32m---> 21\u001b[0;31m         \u001b[0mpicked\u001b[0m \u001b[0;34m=\u001b[0m \u001b[0mself\u001b[0m\u001b[0;34m.\u001b[0m\u001b[0mdraw\u001b[0m\u001b[0;34m(\u001b[0m\u001b[0;34m)\u001b[0m\u001b[0;34m\u001b[0m\u001b[0m\n\u001b[0m\u001b[1;32m     22\u001b[0m         \u001b[0mland\u001b[0m \u001b[0;34m=\u001b[0m \u001b[0mself\u001b[0m\u001b[0;34m.\u001b[0m\u001b[0mland\u001b[0m\u001b[0;34m(\u001b[0m\u001b[0;34m)\u001b[0m\u001b[0;34m\u001b[0m\u001b[0m\n\u001b[1;32m     23\u001b[0m         \u001b[0mplayed\u001b[0m \u001b[0;34m=\u001b[0m \u001b[0mself\u001b[0m\u001b[0;34m.\u001b[0m\u001b[0mcast\u001b[0m\u001b[0;34m(\u001b[0m\u001b[0;34m)\u001b[0m\u001b[0;34m\u001b[0m\u001b[0m\n",
      "\u001b[0;32m<ipython-input-41-6c559e6cc9c3>\u001b[0m in \u001b[0;36mdraw\u001b[0;34m(self, n)\u001b[0m\n\u001b[1;32m     12\u001b[0m     \u001b[0;32mdef\u001b[0m \u001b[0mdraw\u001b[0m\u001b[0;34m(\u001b[0m\u001b[0mself\u001b[0m\u001b[0;34m,\u001b[0m \u001b[0mn\u001b[0m\u001b[0;34m=\u001b[0m\u001b[0;36m1\u001b[0m\u001b[0;34m)\u001b[0m\u001b[0;34m:\u001b[0m\u001b[0;34m\u001b[0m\u001b[0m\n\u001b[1;32m     13\u001b[0m         \u001b[0;32mfor\u001b[0m \u001b[0mi\u001b[0m \u001b[0;32min\u001b[0m \u001b[0mrange\u001b[0m\u001b[0;34m(\u001b[0m\u001b[0mn\u001b[0m\u001b[0;34m)\u001b[0m\u001b[0;34m:\u001b[0m\u001b[0;34m\u001b[0m\u001b[0m\n\u001b[0;32m---> 14\u001b[0;31m             \u001b[0mpicked\u001b[0m \u001b[0;34m=\u001b[0m \u001b[0mself\u001b[0m\u001b[0;34m.\u001b[0m\u001b[0mlibrary\u001b[0m\u001b[0;34m[\u001b[0m\u001b[0;36m0\u001b[0m\u001b[0;34m]\u001b[0m\u001b[0;34m\u001b[0m\u001b[0m\n\u001b[0m\u001b[1;32m     15\u001b[0m             \u001b[0mself\u001b[0m\u001b[0;34m.\u001b[0m\u001b[0mlibrary\u001b[0m \u001b[0;34m=\u001b[0m \u001b[0mself\u001b[0m\u001b[0;34m.\u001b[0m\u001b[0mlibrary\u001b[0m\u001b[0;34m[\u001b[0m\u001b[0;36m1\u001b[0m\u001b[0;34m:\u001b[0m\u001b[0;34m]\u001b[0m\u001b[0;34m\u001b[0m\u001b[0m\n\u001b[1;32m     16\u001b[0m             \u001b[0mself\u001b[0m\u001b[0;34m.\u001b[0m\u001b[0mhand\u001b[0m \u001b[0;34m=\u001b[0m \u001b[0mnp\u001b[0m\u001b[0;34m.\u001b[0m\u001b[0mappend\u001b[0m\u001b[0;34m(\u001b[0m\u001b[0mself\u001b[0m\u001b[0;34m.\u001b[0m\u001b[0mhand\u001b[0m\u001b[0;34m,\u001b[0m \u001b[0mpicked\u001b[0m\u001b[0;34m)\u001b[0m\u001b[0;34m\u001b[0m\u001b[0m\n",
      "\u001b[0;31mIndexError\u001b[0m: list index out of range"
     ]
    }
   ],
   "source": [
    "# hh_r, ll_r = simulate(deck_r, n_rounds=30)\n",
    "# hh_k, ll_k = simulate(deck_k, n_rounds=30)\n",
    "hh_g, ll_g = simulate(deck, deck_library, n_rounds=30)"
   ]
  },
  {
   "cell_type": "markdown",
   "metadata": {},
   "source": [
    "Finally, we plot the average number of cards in hand in each round. Rapid decks tend to have a steeper curve. Slower decks tend to have a higher curve and only until later rounds the number of cards in hand start to decline."
   ]
  },
  {
   "cell_type": "code",
   "execution_count": 9,
   "metadata": {},
   "outputs": [
    {
     "data": {
      "text/plain": [
       "<matplotlib.text.Text at 0x7fa227d6fc90>"
      ]
     },
     "execution_count": 9,
     "metadata": {},
     "output_type": "execute_result"
    },
    {
     "data": {
      "image/png": "[encoded data removed]",
      "text/plain": [
       "<matplotlib.figure.Figure at 0x7fa229e21110>"
      ]
     },
     "metadata": {},
     "output_type": "display_data"
    }
   ],
   "source": [
    "fig, axs = pl.subplots(1, 2, figsize=(6, 2))\n",
    "axs[0].plot(hh_k.mean(0), color='k', lw=1)\n",
    "axs[0].plot(hh_g.mean(0), color='g', lw=1)\n",
    "axs[0].plot(hh_r.mean(0), color='r', lw=1)\n",
    "\n",
    "axs[0].set_yticks(range(8))\n",
    "\n",
    "axs[0].set_xlabel('Round #')\n",
    "axs[0].set_title('# Cards in Hand')\n",
    "\n",
    "axs[1].plot(ll_k.mean(0), color='k', lw=1)\n",
    "axs[1].plot(ll_g.mean(0), color='g', lw=1)\n",
    "axs[1].plot(ll_r.mean(0), color='r', lw=1)\n",
    "\n",
    "# axs[1].set_yticks(range(8))\n",
    "\n",
    "axs[1].set_xlabel('Round #')\n",
    "axs[1].set_title('# Lands in own\\'s territory')"
   ]
  }
 ],
 "metadata": {
  "kernelspec": {
   "display_name": "Python [py3]",
   "language": "python",
   "name": "Python [py3]"
  },
  "language_info": {
   "codemirror_mode": {
    "name": "ipython",
    "version": 3
   },
   "file_extension": ".py",
   "mimetype": "text/x-python",
   "name": "python",
   "nbconvert_exporter": "python",
   "pygments_lexer": "ipython3",
   "version": "3.6.4"
  }
 },
 "nbformat": 4,
 "nbformat_minor": 2
}
