{
 "cells": [
  {
   "cell_type": "markdown",
   "metadata": {},
   "source": [
    "Here we use the `mtgsdk` to load cards from the online database and use their colors to cast spells accordingly"
   ]
  },
  {
   "cell_type": "code",
   "execution_count": 1,
   "metadata": {
    "collapsed": true
   },
   "outputs": [],
   "source": [
    "import numpy as np\n",
    "np.random.seed(19)"
   ]
  },
  {
   "cell_type": "code",
   "execution_count": 2,
   "metadata": {
    "collapsed": true
   },
   "outputs": [],
   "source": [
    "%matplotlib inline"
   ]
  },
  {
   "cell_type": "code",
   "execution_count": 3,
   "metadata": {
    "collapsed": true
   },
   "outputs": [],
   "source": [
    "import pylab as pl\n",
    "pl.rcParams['figure.dpi'] = 120"
   ]
  },
  {
   "cell_type": "code",
   "execution_count": 4,
   "metadata": {
    "collapsed": true
   },
   "outputs": [],
   "source": [
    "from mtgsdk import Card as QueryDB\n",
    "import pickle\n",
    "import csv"
   ]
  },
  {
   "cell_type": "code",
   "execution_count": 5,
   "metadata": {},
   "outputs": [],
   "source": [
    "import random\n",
    "\n",
    "class Card():\n",
    "    \n",
    "    def __init__(self, name):\n",
    "        \n",
    "        try:\n",
    "            c = QueryDB.where(name='\"%s\"'%name).array()  # exact name match\n",
    "            if len(c) == 0:\n",
    "                print('Couldn\\'t find exact match for %s.'%name)\n",
    "                c = QueryDB.where(name=name).array()  # try without exact match\n",
    "            c = c[0]\n",
    "            self.name = c['name']\n",
    "            self.types = c['types']\n",
    "            try:\n",
    "                self.power = c['power']\n",
    "            except KeyError:\n",
    "                self.power = None\n",
    "            try:\n",
    "                self.tough = c['toughness']\n",
    "            except KeyError:\n",
    "                self.tough = None\n",
    "            try:\n",
    "                self.cost = {'green':0,\n",
    "                     'blue':0,\n",
    "                     'white':0,\n",
    "                     'red':0,\n",
    "                     'black':0,\n",
    "                     'x':0,\n",
    "                     'colorless':0}\n",
    "                for cc in c['manaCost'].replace('{', '').replace('}', ''):\n",
    "                    if cc == 'W':\n",
    "                        self.cost['white'] += 1\n",
    "                    elif cc == 'B':\n",
    "                        self.cost['black'] += 1\n",
    "                    elif cc == 'G':\n",
    "                        self.cost['green'] += 1\n",
    "                    elif cc == 'U':\n",
    "                        self.cost['blue'] += 1\n",
    "                    elif cc == 'R':\n",
    "                        self.cost['red'] += 1\n",
    "                    elif cc == 'X':\n",
    "                        self.cost['x'] = 1  # just a number > 0\n",
    "                    else:\n",
    "                        self.cost['colorless'] = int(cc)\n",
    "                        \n",
    "            except KeyError:\n",
    "                self.cost = None\n",
    "            self._card = c\n",
    "\n",
    "        except IndexError:\n",
    "            \n",
    "            print(\"Couldn't find %s, skipping.\"%name)\n",
    "            self.name = name\n",
    "            self.types = []\n",
    "            self.power = None\n",
    "            self.tough = None\n",
    "            self.cost = None\n",
    "            self._card = None\n",
    "        \n",
    "    def is_type(self, type_string):\n",
    "        return type_string.lower() in [t.lower() for t in self.types]\n",
    "    \n",
    "    def is_land(self):\n",
    "        return self.is_type('land')\n",
    "    \n",
    "    def is_creature(self):\n",
    "        return self.is_type('creature')\n",
    "    \n",
    "    def is_instant(self):\n",
    "        return self.is_type('instant')\n",
    "        \n",
    "    def get_combined_cost(self):\n",
    "        return np.sum(self.cost)\n",
    "    \n",
    "    def __repr__(self):\n",
    "        return self.name"
   ]
  },
  {
   "cell_type": "code",
   "execution_count": 6,
   "metadata": {},
   "outputs": [],
   "source": [
    "class Deck():\n",
    "    \n",
    "    def __init__(self, name):\n",
    "        self.name = name\n",
    "        self._reset([])\n",
    "        \n",
    "    def import_names(self, cards):\n",
    "        for c in cards:\n",
    "            self.library.append(Card(c))\n",
    "        random.shuffle(self.library)\n",
    "\n",
    "    def import_csv(self, filename='decks/white_green.csv'):\n",
    "        cards = []\n",
    "        with open(filename, 'r') as csvfile:\n",
    "            reader = csv.reader(csvfile, delimiter=',')\n",
    "            for row in reader:\n",
    "                if row[0] == 'Name':\n",
    "                    continue\n",
    "                howmany = int(row[-1])\n",
    "                while howmany>0:\n",
    "                    cards.append(row[0])\n",
    "                    howmany -= 1\n",
    "        self.import_names(cards)\n",
    "        \n",
    "    def draw(self, n=1):\n",
    "        for i in range(n):\n",
    "            picked = self.library[0]\n",
    "            self.library = self.library[1:]\n",
    "            self.hand = np.append(self.hand, picked)\n",
    "#             print(picked.name)\n",
    "        return picked\n",
    "    \n",
    "    def play(self):\n",
    "        '''\n",
    "        - draw a card\n",
    "        - play a random land if any\n",
    "        - play a random playable card, given the available mana\n",
    "        - discard if more then 7 cards in hand\n",
    "        '''\n",
    "        # draw a card\n",
    "        picked = self.draw()\n",
    "        # play a random land if any\n",
    "        land = self.land()\n",
    "        # play a random playable card, given the available mana\n",
    "        played = self.cast()\n",
    "        # discard if more then 7 cards in hand\n",
    "        discarded = self.cleanup()\n",
    "        return land, picked, played, discarded\n",
    "    \n",
    "    def get_all_mana(self):\n",
    "        '''\n",
    "        get all available mana from all lands\n",
    "        '''\n",
    "        # use all available mana and put it into self.mana\n",
    "        self._reset_mana()\n",
    "        for l in self.lands:\n",
    "            if l.name=='Forest':\n",
    "                self.mana['green'] += 1\n",
    "            elif l.name=='Swamp':\n",
    "                self.mana['black'] += 1\n",
    "            elif l.name=='Plains':\n",
    "                self.mana['white'] += 1\n",
    "            elif l.name=='Mountain':\n",
    "                self.mana['red'] += 1\n",
    "            elif l.name=='Island':\n",
    "                self.mana['blue'] += 1\n",
    "            else:\n",
    "                print(\"Sorry, can't deal with this land yet, adding no mana from %s.\"%l.name)\n",
    "    \n",
    "    def land(self):\n",
    "        '''\n",
    "        play a random land\n",
    "        '''\n",
    "        yes_no = []\n",
    "        for h in self.hand:\n",
    "            yes_no.append(h.is_land())\n",
    "        try:\n",
    "            which = np.where(yes_no)[0][0]  # first land in hand\n",
    "            self.lands.append(self.hand[which])\n",
    "            self.hand = np.delete(self.hand, which)\n",
    "            toret = 1\n",
    "        except IndexError:\n",
    "#             print \"No land in hand. :(\"\n",
    "            toret = 0\n",
    "        return toret\n",
    "    \n",
    "    def cast(self):\n",
    "        '''\n",
    "        cast a random spell regardless of its type\n",
    "        '''\n",
    "        self.get_all_mana()\n",
    "        which_playable = self.get_playables()\n",
    "        if sum(which_playable)>0:\n",
    "            which_to_play = np.random.permutation(np.where(which_playable)[0])[0]\n",
    "            self.tap_mana(self.hand[which_to_play])\n",
    "            toret = self.hand[which_to_play]\n",
    "            self.played.append(toret)\n",
    "            self.hand = np.delete(self.hand, which_to_play)\n",
    "        else:\n",
    "            toret = None\n",
    "        return toret\n",
    "\n",
    "    def tap_mana(self, card):\n",
    "        '''\n",
    "        decrease the amount of mana necessary to play the given card\n",
    "        '''\n",
    "        # useless for now since we only play one card per round\n",
    "        pass\n",
    "    \n",
    "    def cleanup(self):\n",
    "        if len(self.hand) > 7:\n",
    "            try:\n",
    "                which = np.random.choice(np.where([not c.is_land() for c in self.hand])[0])\n",
    "            except IndexError:\n",
    "                # they're all lands!\n",
    "                which = 0\n",
    "            toret = self.hand[which]\n",
    "            self.discard(which)\n",
    "        else:\n",
    "            toret = None\n",
    "        return toret\n",
    "    \n",
    "    def discard(self, i):\n",
    "        '''\n",
    "        put the given card into the self.discarded stack from self.hand\n",
    "        '''\n",
    "        self.discarded.append(self.hand[i])\n",
    "        self.hand = np.delete(self.hand, i)\n",
    "        return\n",
    "    \n",
    "    def is_playable(self, card):\n",
    "        '''\n",
    "        check if enough mana is available to play the given card\n",
    "        (return False for lands since we assume they are played in a different phase)\n",
    "        '''\n",
    "        if card.is_land():\n",
    "            return False\n",
    "        remainder = self.mana.copy()\n",
    "        for c, v in card.cost.items():\n",
    "            if c == 'x' or c == 'colorless':\n",
    "                continue\n",
    "            remainder[c] = self.mana[c] - v\n",
    "        if any(np.r_[list(remainder.values())]<0):\n",
    "            return False\n",
    "        remainder['colorless'] -= card.cost['colorless'] - np.sum([np.clip(remainder['green'], 0, np.inf),\n",
    "                                                                   np.clip(remainder['blue'], 0, np.inf),\n",
    "                                                                   np.clip(remainder['white'], 0, np.inf),\n",
    "                                                                   np.clip(remainder['red'], 0, np.inf),\n",
    "                                                                   np.clip(remainder['black'], 0, np.inf),])\n",
    "        if remainder['colorless']<0: \n",
    "            return False\n",
    "        if card.cost['x'] > 0 and remainder['colorless'] <= 0:\n",
    "            return False\n",
    "        return True\n",
    "        \n",
    "    def get_playables(self):\n",
    "        '''\n",
    "        check if enough mana is available to play each card in hand and return a boolean list\n",
    "        '''\n",
    "        return [self.is_playable(card) for card in self.hand]          \n",
    "    \n",
    "    def _reset_mana(self):\n",
    "        self.mana = {'green':0,\n",
    "                     'blue':0,\n",
    "                     'white':0,\n",
    "                     'red':0,\n",
    "                     'black':0,\n",
    "                     'colorless':0}\n",
    "    \n",
    "    def _reset(self, library):\n",
    "        '''\n",
    "        - set the library\n",
    "        - shuffle\n",
    "        - empty hand, lands, discarded\n",
    "        - reset mana to 0\n",
    "        '''\n",
    "        self.library = library\n",
    "        if len(library)>0:\n",
    "            random.shuffle(library)\n",
    "        self.hand = []\n",
    "        self._reset_mana()\n",
    "        self.lands = []\n",
    "        self.discarded = []\n",
    "        self.played = []\n",
    "        \n",
    "    def save(self, filename=None):\n",
    "        '''\n",
    "        dumps the library into a binary file\n",
    "        '''\n",
    "        if filename is None:\n",
    "            filename = self.name\n",
    "        with open(filename, 'wb') as f:\n",
    "            pickle.dump(self.library, f)\n",
    "            \n",
    "    def load(self, filename, name=None):\n",
    "        '''\n",
    "        loads the library and resets the deck (see self._reset)\n",
    "        a new name for the deck can be given\n",
    "        '''\n",
    "        with open(filename, 'rb') as f:\n",
    "            self._reset(pickle.load(f))\n",
    "        if name is not None:\n",
    "            deck.name = name"
   ]
  },
  {
   "cell_type": "code",
   "execution_count": 7,
   "metadata": {},
   "outputs": [
    {
     "name": "stdout",
     "output_type": "stream",
     "text": [
      "CPU times: user 1.19 s, sys: 59.3 ms, total: 1.25 s\n",
      "Wall time: 14.2 s\n"
     ]
    }
   ],
   "source": [
    "%%time\n",
    "deck = Deck(name='white_green')\n",
    "deck.import_csv('decks/white_green.csv')\n",
    "deck.save('decks/white_green.dck')"
   ]
  },
  {
   "cell_type": "code",
   "execution_count": 8,
   "metadata": {},
   "outputs": [
    {
     "name": "stdout",
     "output_type": "stream",
     "text": [
      "CPU times: user 1.19 s, sys: 63.5 ms, total: 1.26 s\n",
      "Wall time: 25.2 s\n"
     ]
    }
   ],
   "source": [
    "%%time\n",
    "deck.import_csv('decks/blue_black.csv')\n",
    "# Problems with 'Deja vu' ...\n",
    "# which = np.where(['Deja' in c.name for c in deck.library])[0][0]\n",
    "# deck.library[which].cost = {'black': 1,\n",
    "#  'blue': 1,\n",
    "#  'colorless': 2,\n",
    "#  'green': 0,\n",
    "#  'red': 0,\n",
    "#  'white': 0,\n",
    "#  'x': 0}\n",
    "deck.save('decks/blue_black.dck')"
   ]
  },
  {
   "cell_type": "code",
   "execution_count": 9,
   "metadata": {},
   "outputs": [
    {
     "name": "stdout",
     "output_type": "stream",
     "text": [
      "CPU times: user 1.22 s, sys: 84 ms, total: 1.3 s\n",
      "Wall time: 20.8 s\n"
     ]
    }
   ],
   "source": [
    "%%time\n",
    "deck.import_csv('decks/red.csv')\n",
    "deck.save('decks/red.dck')"
   ]
  },
  {
   "cell_type": "code",
   "execution_count": 10,
   "metadata": {},
   "outputs": [
    {
     "name": "stdout",
     "output_type": "stream",
     "text": [
      "['Giant Growth', 'Forest', 'Holy Strength', \"Predator's Strike\", 'Plains', 'Guardian Angel', 'Alaborn Trooper']\n",
      "----\n",
      "Lands\t [Forest]\n",
      "Pick\t Forest None\n",
      "Play\t Giant Growth {'green': 1, 'blue': 0, 'white': 0, 'red': 0, 'black': 0, 'x': 0, 'colorless': 0}\n",
      "Discard\t None None\n",
      "Hand\t ['Holy Strength', \"Predator's Strike\", 'Plains', 'Guardian Angel', 'Alaborn Trooper', 'Forest']\n",
      "----\n",
      "Lands\t [Forest, Plains]\n",
      "Pick\t Desert Twister {'green': 2, 'blue': 0, 'white': 0, 'red': 0, 'black': 0, 'x': 0, 'colorless': 4}\n",
      "Play\t Guardian Angel {'green': 0, 'blue': 0, 'white': 1, 'red': 0, 'black': 0, 'x': 1, 'colorless': 0}\n",
      "Discard\t None None\n",
      "Hand\t ['Holy Strength', \"Predator's Strike\", 'Alaborn Trooper', 'Forest', 'Desert Twister']\n",
      "----\n",
      "Lands\t [Forest, Plains, Forest]\n",
      "Pick\t Forest None\n",
      "Play\t Alaborn Trooper {'green': 0, 'blue': 0, 'white': 1, 'red': 0, 'black': 0, 'x': 0, 'colorless': 2}\n",
      "Discard\t None None\n",
      "Hand\t ['Holy Strength', \"Predator's Strike\", 'Desert Twister', 'Forest']\n",
      "----\n",
      "Lands\t [Forest, Plains, Forest, Forest]\n",
      "Pick\t Holy Strength {'green': 0, 'blue': 0, 'white': 1, 'red': 0, 'black': 0, 'x': 0, 'colorless': 0}\n",
      "Play\t Holy Strength {'green': 0, 'blue': 0, 'white': 1, 'red': 0, 'black': 0, 'x': 0, 'colorless': 0}\n",
      "Discard\t None None\n",
      "Hand\t ['Holy Strength', \"Predator's Strike\", 'Desert Twister']\n",
      "----\n",
      "Lands\t [Forest, Plains, Forest, Forest]\n",
      "Pick\t Wild Growth {'green': 1, 'blue': 0, 'white': 0, 'red': 0, 'black': 0, 'x': 0, 'colorless': 0}\n",
      "Play\t Predator's Strike {'green': 1, 'blue': 0, 'white': 0, 'red': 0, 'black': 0, 'x': 0, 'colorless': 1}\n",
      "Discard\t None None\n",
      "Hand\t ['Holy Strength', 'Desert Twister', 'Wild Growth']\n",
      "----\n",
      "Lands\t [Forest, Plains, Forest, Forest]\n",
      "Pick\t Desert Twister {'green': 2, 'blue': 0, 'white': 0, 'red': 0, 'black': 0, 'x': 0, 'colorless': 4}\n",
      "Play\t Holy Strength {'green': 0, 'blue': 0, 'white': 1, 'red': 0, 'black': 0, 'x': 0, 'colorless': 0}\n",
      "Discard\t None None\n",
      "Hand\t ['Desert Twister', 'Wild Growth', 'Desert Twister']\n",
      "----\n",
      "Lands\t [Forest, Plains, Forest, Forest, Plains]\n",
      "Pick\t Plains None\n",
      "Play\t Wild Growth {'green': 1, 'blue': 0, 'white': 0, 'red': 0, 'black': 0, 'x': 0, 'colorless': 0}\n",
      "Discard\t None None\n",
      "Hand\t ['Desert Twister', 'Desert Twister']\n",
      "----\n",
      "Lands\t [Forest, Plains, Forest, Forest, Plains]\n",
      "Pick\t Wall of Wood {'green': 1, 'blue': 0, 'white': 0, 'red': 0, 'black': 0, 'x': 0, 'colorless': 0}\n",
      "Play\t Wall of Wood {'green': 1, 'blue': 0, 'white': 0, 'red': 0, 'black': 0, 'x': 0, 'colorless': 0}\n",
      "Discard\t None None\n",
      "Hand\t ['Desert Twister', 'Desert Twister']\n",
      "----\n",
      "Lands\t [Forest, Plains, Forest, Forest, Plains]\n",
      "Pick\t Stand Together {'green': 2, 'blue': 0, 'white': 0, 'red': 0, 'black': 0, 'x': 0, 'colorless': 3}\n",
      "Play\t Stand Together {'green': 2, 'blue': 0, 'white': 0, 'red': 0, 'black': 0, 'x': 0, 'colorless': 3}\n",
      "Discard\t None None\n",
      "Hand\t ['Desert Twister', 'Desert Twister']\n",
      "----\n",
      "Lands\t [Forest, Plains, Forest, Forest, Plains, Plains]\n",
      "Pick\t Plains None\n",
      "Play\t Desert Twister {'green': 2, 'blue': 0, 'white': 0, 'red': 0, 'black': 0, 'x': 0, 'colorless': 4}\n",
      "Discard\t None None\n",
      "Hand\t ['Desert Twister']\n"
     ]
    }
   ],
   "source": [
    "deck = Deck(name='white_green')\n",
    "deck.load('decks/white_green.dck')\n",
    "deck.draw(7)\n",
    "print(['%s'%c for c in deck.hand])\n",
    "lands = [0]\n",
    "hands = [len(deck.hand)]\n",
    "for i in range(10):    \n",
    "    print(\"----\")\n",
    "    l, draw, played, discarded = deck.play()\n",
    "    print(\"Lands\\t\", deck.lands)\n",
    "    print(\"Pick\\t\", draw, draw.cost)\n",
    "    print(\"Play\\t\", played, played.cost if played is not None else None)\n",
    "    print(\"Discard\\t\", discarded, discarded.cost if discarded is not None else None)\n",
    "    print('Hand\\t', ['%s'%c for c in deck.hand])\n",
    "    lands.append(deck.lands)\n",
    "    hands.append(len(deck.hand))"
   ]
  },
  {
   "cell_type": "markdown",
   "metadata": {},
   "source": [
    "Now we simulate a number of such runs. First we encapsulate the above into the `simulate` function."
   ]
  },
  {
   "cell_type": "code",
   "execution_count": 11,
   "metadata": {
    "collapsed": true
   },
   "outputs": [],
   "source": [
    "def simulate(deck, filename, n=100, n_rounds=20):\n",
    "    hh = []\n",
    "    ll = []\n",
    "    for i in range(n):\n",
    "\n",
    "        deck.load(filename)\n",
    "        deck.draw(7)\n",
    "        lands = [0]\n",
    "        hands = [len(deck.hand)]\n",
    "        for i in range(n_rounds):    \n",
    "            l, draw, played, discarded = deck.play()\n",
    "            lands.append(len(deck.lands))\n",
    "            hands.append(len(deck.hand))\n",
    "\n",
    "        hh.append(hands)\n",
    "        ll.append(lands)\n",
    "\n",
    "    hh = np.r_[hh]\n",
    "    ll = np.r_[ll]\n",
    "    \n",
    "    return hh, ll"
   ]
  },
  {
   "cell_type": "markdown",
   "metadata": {},
   "source": [
    "Then we define 3 decks, red, black and green, and we simulate them."
   ]
  },
  {
   "cell_type": "code",
   "execution_count": 12,
   "metadata": {},
   "outputs": [],
   "source": [
    "hh_r, ll_r = simulate(deck, 'decks/red.dck', n_rounds=30)\n",
    "hh_k, ll_k = simulate(deck, 'decks/blue_black.dck', n_rounds=30)\n",
    "hh_g, ll_g = simulate(deck, 'decks/white_green.dck', n_rounds=30)"
   ]
  },
  {
   "cell_type": "markdown",
   "metadata": {},
   "source": [
    "Finally, we plot the average number of cards in hand in each round. Rapid decks tend to have a steeper curve. Slower decks tend to have a higher curve and only until later rounds the number of cards in hand start to decline."
   ]
  },
  {
   "cell_type": "code",
   "execution_count": 13,
   "metadata": {},
   "outputs": [
    {
     "data": {
      "text/plain": [
       "Text(0.5,1,\"# Lands in own's territory\")"
      ]
     },
     "execution_count": 13,
     "metadata": {},
     "output_type": "execute_result"
    },
    {
     "data": {
      "image/png": "[encoded data removed]",
      "text/plain": [
       "<matplotlib.figure.Figure at 0x7f8ebe040b38>"
      ]
     },
     "metadata": {},
     "output_type": "display_data"
    }
   ],
   "source": [
    "fig, axs = pl.subplots(1, 2, figsize=(6, 2))\n",
    "axs[0].plot(hh_k.mean(0), color='k', lw=1)\n",
    "axs[0].plot(hh_g.mean(0), color='g', lw=1)\n",
    "axs[0].plot(hh_r.mean(0), color='r', lw=1)\n",
    "\n",
    "axs[0].set_yticks(range(8))\n",
    "\n",
    "axs[0].set_xlabel('Round #')\n",
    "axs[0].set_title('# Cards in Hand')\n",
    "\n",
    "axs[1].plot(ll_k.mean(0), color='k', lw=1)\n",
    "axs[1].plot(ll_g.mean(0), color='g', lw=1)\n",
    "axs[1].plot(ll_r.mean(0), color='r', lw=1)\n",
    "\n",
    "axs[1].set_xlabel('Round #')\n",
    "axs[1].set_title('# Lands in own\\'s territory')"
   ]
  }
 ],
 "metadata": {
  "kernelspec": {
   "display_name": "Python [py3]",
   "language": "python",
   "name": "Python [py3]"
  },
  "language_info": {
   "codemirror_mode": {
    "name": "ipython",
    "version": 3
   },
   "file_extension": ".py",
   "mimetype": "text/x-python",
   "name": "python",
   "nbconvert_exporter": "python",
   "pygments_lexer": "ipython3",
   "version": "3.6.4"
  }
 },
 "nbformat": 4,
 "nbformat_minor": 2
}
