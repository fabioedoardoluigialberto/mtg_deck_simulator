{
 "cells": [
  {
   "cell_type": "code",
   "execution_count": 1,
   "metadata": {
    "collapsed": true
   },
   "outputs": [],
   "source": [
    "import numpy as np\n",
    "np.random.seed(19)"
   ]
  },
  {
   "cell_type": "markdown",
   "metadata": {},
   "source": [
    "I scanned my deck using the Delver Lens app https://delverlab.com/. I then exported it into a csv keeping card name, edition and quantity as the only entries. Here I show how to import the deck into python and how to retrieve card information using `mtgsdk`."
   ]
  },
  {
   "cell_type": "code",
   "execution_count": 2,
   "metadata": {
    "collapsed": true
   },
   "outputs": [],
   "source": [
    "from mtgsdk import Card\n",
    "\n",
    "import csv\n",
    "cards = []\n",
    "with open('decks/white_green.csv', 'r') as csvfile:\n",
    "    reader = csv.reader(csvfile, delimiter=',')\n",
    "    for row in reader:\n",
    "        if row[0] == 'Name':\n",
    "            continue\n",
    "        howmany = int(row[-1])\n",
    "        while howmany>0:\n",
    "            cards.append(row[0])\n",
    "            howmany -= 1"
   ]
  },
  {
   "cell_type": "code",
   "execution_count": 3,
   "metadata": {},
   "outputs": [
    {
     "name": "stdout",
     "output_type": "stream",
     "text": [
      "['Forest' 'Plains' 'Wild Growth' 'Forest' 'Plains' 'Giant Growth'\n",
      " 'Craw Wurm' 'Samite Alchemist' \"Predator's Strike\" 'Plains'\n",
      " 'Wall of Swords' 'Plains' 'Samite Alchemist' 'Holy Strength'\n",
      " \"Abuna's Chant\" 'Trokin High Guard' 'Ferocious Charge' 'Ferocious Charge'\n",
      " 'Forest' 'Samite Healer' 'Loxodon Anchorite' \"Abu Ja'far\" 'Holy Strength'\n",
      " 'Samite Healer' 'Craw Wurm' 'Forest' 'Guardian Angel' 'Alaborn Trooper'\n",
      " 'Wild Growth' 'Skyhunter Prowler' 'Stand Together' 'Forest'\n",
      " 'Holy Strength' 'Forest' 'Alaborn Zealot' 'Plains' 'Desert Twister'\n",
      " 'Desert Twister' 'Craw Wurm' \"Predator's Strike\" 'Forest'\n",
      " 'Samite Alchemist' 'Forest' 'Plains' 'Samite Healer' 'Wall of Wood'\n",
      " 'Plains' 'Angelic Wall' 'Wall of Wood' 'Forest' 'Alabaster Potion'\n",
      " 'Plains' 'Desert Twister' 'Temple Acolyte' 'Forest' 'Plains' 'Plains'\n",
      " 'Temple Elder' 'Samite Healer' 'Holy Strength']\n"
     ]
    }
   ],
   "source": [
    "# shuffle deck\n",
    "cards = np.random.permutation(cards)\n",
    "print(cards)"
   ]
  },
  {
   "cell_type": "code",
   "execution_count": 4,
   "metadata": {},
   "outputs": [
    {
     "name": "stdout",
     "output_type": "stream",
     "text": [
      "                Name: \tType\t\tPower\tTough\tCost\n",
      "              Forest:\t['Land']\tNone\tNone\tNone\n",
      "              Plains:\t['Land']\tNone\tNone\tNone\n",
      "         Wild Growth:\t['Enchantment']\tNone\tNone\t{G}\n",
      "              Forest:\t['Land']\tNone\tNone\tNone\n",
      "              Plains:\t['Land']\tNone\tNone\tNone\n",
      "        Giant Growth:\t['Instant']\tNone\tNone\t{G}\n",
      "           Craw Wurm:\t['Creature']\t6\t4\t{4}{G}{G}\n",
      "    Samite Alchemist:\t['Creature']\t0\t2\t{3}{W}\n",
      "   Predator's Strike:\t['Instant']\tNone\tNone\t{1}{G}\n",
      "              Plains:\t['Land']\tNone\tNone\tNone\n"
     ]
    }
   ],
   "source": [
    "print('%20s:'%'Name', \"\\tType\\t\\tPower\\tTough\\tCost\")\n",
    "for c in cards[:10]:\n",
    "    cc = Card.where(name=c).array()[0]\n",
    "    try:\n",
    "        power = cc['power']\n",
    "    except KeyError:\n",
    "        power = None\n",
    "    try:\n",
    "        tough = cc['toughness']\n",
    "    except KeyError:\n",
    "        tough = None\n",
    "    try:\n",
    "        cost = cc['manaCost']\n",
    "    except KeyError:\n",
    "        cost = None\n",
    "\n",
    "    print('%20s:'%c, cc['types'], power, tough, cost, sep='\\t')"
   ]
  },
  {
   "cell_type": "markdown",
   "metadata": {},
   "source": [
    "I haven't found a better way to retrieve all cards in the deck in one shot instead of querying the database for each name separately as I do in the above. There must be a way..."
   ]
  }
 ],
 "metadata": {
  "kernelspec": {
   "display_name": "Python [py3]",
   "language": "python",
   "name": "Python [py3]"
  },
  "language_info": {
   "codemirror_mode": {
    "name": "ipython",
    "version": 3
   },
   "file_extension": ".py",
   "mimetype": "text/x-python",
   "name": "python",
   "nbconvert_exporter": "python",
   "pygments_lexer": "ipython3",
   "version": "3.6.4"
  }
 },
 "nbformat": 4,
 "nbformat_minor": 2
}
